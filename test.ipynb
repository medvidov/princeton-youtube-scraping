{
 "cells": [
  {
   "cell_type": "code",
   "execution_count": 2,
   "metadata": {},
   "outputs": [],
   "source": [
    "import os\n",
    "import requests\n",
    "from playwright.sync_api import sync_playwright\n",
    "from dotenv import load_dotenv\n",
    "import matplotlib.pyplot as plt\n",
    "import ssl"
   ]
  },
  {
   "cell_type": "code",
   "execution_count": 4,
   "metadata": {},
   "outputs": [],
   "source": [
    "# Function to get the associated channel ID from a video URL\n",
    "def get_channel_from_video(video_url):\n",
    "    api_key = os.getenv('YOUTUBE_API_KEY')\n",
    "    \n",
    "    # Check if it's a YouTube Short\n",
    "    if '/shorts/' in video_url:\n",
    "        print(f\"Note: The video is a Short: {video_url}\")\n",
    "        return None  # Skip further processing for Shorts\n",
    "    \n",
    "    # Ensure the video URL has a video ID\n",
    "    if 'v=' not in video_url:\n",
    "        print(f\"Invalid video URL: {video_url}\")\n",
    "        return None\n",
    "    \n",
    "    video_id = video_url.split('v=')[-1].split('&')[0].strip()\n",
    "    \n",
    "    # Check if video_id is valid (not empty)\n",
    "    if not video_id:\n",
    "        print(f\"Failed to extract video ID from URL: {video_url}\")\n",
    "        return None\n",
    "    \n",
    "    video_api_url = f\"https://www.googleapis.com/youtube/v3/videos?part=snippet&id={video_id}&key={api_key}\"\n",
    "    response = requests.get(video_api_url)\n",
    "    \n",
    "    if response.status_code != 200:\n",
    "        print(f\"Failed to retrieve video data: {response.status_code}\")\n",
    "        return None\n",
    "    \n",
    "    video_data = response.json()\n",
    "    if 'items' not in video_data or not video_data['items']:\n",
    "        print(f\"No data found for video: {video_api_url}\")\n",
    "        return None\n",
    "    \n",
    "    channel_id = video_data['items'][0]['snippet']['channelId']\n",
    "    \n",
    "    return channel_id"
   ]
  },
  {
   "cell_type": "code",
   "execution_count": 8,
   "metadata": {},
   "outputs": [],
   "source": [
    "videos = [\n",
    "    'https://www.youtube.com/watch?v=UPrkC1LdlLY',\n",
    "    'https://www.youtube.com/watch?v=erLbbextvlY',\n",
    "    'https://www.youtube.com/watch?v=QVYD1Ex6nnI',\n",
    "    'https://www.youtube.com/watch?v=N2zDRzNN_xg',\n",
    "    'https://www.youtube.com/watch?v=6wnXvlj9Ihg',\n",
    "    'https://www.youtube.com/watch?v=3YoXV59sayc',\n",
    "    'https://www.youtube.com/watch?v=U_LlX4t0A9I',\n",
    "    'https://www.youtube.com/watch?v=GgMRQOAJCNQ',\n",
    "    'https://www.youtube.com/watch?v=BqeE1CKrRtE',\n",
    "    'https://www.youtube.com/watch?v=KOEfDvr4DcQ',\n",
    "    'https://www.youtube.com/watch?v=KJPZlAgvpWw',\n",
    "    'https://www.youtube.com/watch?v=4SNThp0YiU4',\n",
    "    'https://www.youtube.com/watch?v=tWYsfOSY9vY',\n",
    "    'https://www.youtube.com/watch?v=jk6thMe6Vq8',\n",
    "    'https://www.youtube.com/watch?v=_Dhncd2XlwQ',\n",
    "    'https://www.youtube.com/watch?v=FeVyPzSCaCU',\n",
    "    'https://www.youtube.com/watch?v=VSYbhVAIs6c',\n",
    "    'https://www.youtube.com/watch?v=PWirijQkH4M',\n",
    "    'https://www.youtube.com/watch?v=9RhWXPcKBI8',\n",
    "    'https://www.youtube.com/watch?v=K_CbgLpvH9E'\n",
    "]"
   ]
  },
  {
   "cell_type": "code",
   "execution_count": 10,
   "metadata": {},
   "outputs": [
    {
     "name": "stdout",
     "output_type": "stream",
     "text": [
      "UCX6OQ3DkcsbYNE6H8uQQuVA\n",
      "UCX6OQ3DkcsbYNE6H8uQQuVA\n",
      "UCXoCSxSbh2d5DAlA5FiyuOQ\n",
      "UC2Sa84yoZJQit_yCjlHh5_g\n",
      "UCGtwRxZSLyK0WOZTekjMk0w\n",
      "UCGNaS7Q5TLpOzx-oIocgkqA\n",
      "UCX6OQ3DkcsbYNE6H8uQQuVA\n",
      "UCDogdKl7t7NHzQ95aEwkdMw\n",
      "UCDoJIpPvtEwFvfNXsZvCqKw\n",
      "UCX6OQ3DkcsbYNE6H8uQQuVA\n",
      "UC4zNtKX3XTplYQWNFPorvXQ\n",
      "UCX6OQ3DkcsbYNE6H8uQQuVA\n",
      "UCX6OQ3DkcsbYNE6H8uQQuVA\n",
      "UCIPPMRA040LQr5QPyJEbmXA\n",
      "UCU3Q7YbKNK6yTsG-g7v-5Ug\n",
      "UCuM_RUD-2-3dyIsBQHNorTA\n",
      "UC5_IT4-XpinnvNQwM1e15eQ\n",
      "UCX6OQ3DkcsbYNE6H8uQQuVA\n",
      "UCX6OQ3DkcsbYNE6H8uQQuVA\n",
      "UCX6OQ3DkcsbYNE6H8uQQuVA\n"
     ]
    }
   ],
   "source": [
    "for video in videos:\n",
    "    print(get_channel_from_video(video))"
   ]
  },
  {
   "cell_type": "code",
   "execution_count": 17,
   "metadata": {},
   "outputs": [
    {
     "name": "stdout",
     "output_type": "stream",
     "text": [
      "{'kind': 'youtube#videoListResponse', 'etag': 'LeNKVHFS-pWyu4E8MoAIvmleepg', 'items': [{'kind': 'youtube#video', 'etag': 'AdYM7xyglfNH_He_1DOOzoYFZsE', 'id': 'AoeDLbTwuTw', 'snippet': {'publishedAt': '2020-06-27T13:00:13Z', 'channelId': 'UCpWu-zTMBBLV_DWMC2_vupQ', 'title': 'Riff & Swanz - Segalanya feat. MZL (Official Music Video) Dir. Mancientry', 'description': 'Official Music Video for \"Segalanya\" by Riff & Swanz feat. MZL\\n\\nListen to \"Segalanya\" here: https://open.spotify.com/album/4sVGK0BBtcSGtn6ibufSOp\\nDownload \"Segalanya\": https://hypeddit.com/track/8b2e2u\\n\\n[Music] \\nProduced by visuum\\nRecorded by Swanz\\nMixed & Mastered by Swanz\\nWritten by Riff, Swanz, & MZL\\n\\n[Video] \\nProduced by Mancientry Original Film\\nDirector: Maman Shahrunezam (https://www.instagram.com/mancientry/)\\nDirector of Photography: Dani Iskandar (https://www.instagram.com/daniiiskandar/)\\nAssistant DP: Syafiq Syafie (https://www.instagram.com/syafiqsyafie_/)\\nBehind The Scenes: Izyan Akmal (https://www.instagram.com/m_1zzul/)\\nTalent: Wafiqah Abu Bakar (https://www.instagram.com/wafiqahabubakar/)\\n\\nFollow Riff online:\\nhttps://www.instagram.com/riffdolla\\nhttps://www.twitter.com/riffdolla\\nhttps://soundcloud.com/riffdolla\\nhttps://www.youtube.com/channel/UCKzSwW2iPeu8Falp1UM0lKQ\\n\\nFollow Swanz online:\\nhttps://www.instagram.com/itsswanz\\nhttps://www.twitter.com/_swanz_\\nhttps://www.soundcloud.com/psychoticprophet\\nhttps://www.youtube.com/channel/UCFFSoxJubBC9cDMOzk9dXjQ\\n\\nFollow MZL online:\\nhttps://www.instagram.com/mzl.ikh/\\nhttps://soundcloud.com/archivesofmzl\\n\\n#Segalanya #Riff #Swanz #MZL #AMOF #BeatsAndCaffeine #Brunei #MYHH #MYHHCODE\\n\\n© 2020 Beats & Caffeine Studio', 'thumbnails': {'default': {'url': 'https://i.ytimg.com/vi/AoeDLbTwuTw/default.jpg', 'width': 120, 'height': 90}, 'medium': {'url': 'https://i.ytimg.com/vi/AoeDLbTwuTw/mqdefault.jpg', 'width': 320, 'height': 180}, 'high': {'url': 'https://i.ytimg.com/vi/AoeDLbTwuTw/hqdefault.jpg', 'width': 480, 'height': 360}, 'standard': {'url': 'https://i.ytimg.com/vi/AoeDLbTwuTw/sddefault.jpg', 'width': 640, 'height': 480}, 'maxres': {'url': 'https://i.ytimg.com/vi/AoeDLbTwuTw/maxresdefault.jpg', 'width': 1280, 'height': 720}}, 'channelTitle': 'Beats & Caffeine', 'tags': ['riff', 'swanz', 'mzl', 'segalanya', 'amof', 'mancientry', 'riff & swanz', 'hayat', 'beats and caffeine', 'beats & caffeine', 'yonny', 'gard', 'quai', 'alyph', 'sonaone', 'mzl swanz', 'swanz mzl', 'riff mzl', 'riff swanz', 'oh sayang ku', 'sayangku', 'sayang ku', 'visuum', 'lyric video', 'video', 'segalanya riff swanz', 'segalanya swanz', 'segalanya mzl'], 'categoryId': '10', 'liveBroadcastContent': 'none', 'localized': {'title': 'Riff & Swanz - Segalanya feat. MZL (Official Music Video) Dir. Mancientry', 'description': 'Official Music Video for \"Segalanya\" by Riff & Swanz feat. MZL\\n\\nListen to \"Segalanya\" here: https://open.spotify.com/album/4sVGK0BBtcSGtn6ibufSOp\\nDownload \"Segalanya\": https://hypeddit.com/track/8b2e2u\\n\\n[Music] \\nProduced by visuum\\nRecorded by Swanz\\nMixed & Mastered by Swanz\\nWritten by Riff, Swanz, & MZL\\n\\n[Video] \\nProduced by Mancientry Original Film\\nDirector: Maman Shahrunezam (https://www.instagram.com/mancientry/)\\nDirector of Photography: Dani Iskandar (https://www.instagram.com/daniiiskandar/)\\nAssistant DP: Syafiq Syafie (https://www.instagram.com/syafiqsyafie_/)\\nBehind The Scenes: Izyan Akmal (https://www.instagram.com/m_1zzul/)\\nTalent: Wafiqah Abu Bakar (https://www.instagram.com/wafiqahabubakar/)\\n\\nFollow Riff online:\\nhttps://www.instagram.com/riffdolla\\nhttps://www.twitter.com/riffdolla\\nhttps://soundcloud.com/riffdolla\\nhttps://www.youtube.com/channel/UCKzSwW2iPeu8Falp1UM0lKQ\\n\\nFollow Swanz online:\\nhttps://www.instagram.com/itsswanz\\nhttps://www.twitter.com/_swanz_\\nhttps://www.soundcloud.com/psychoticprophet\\nhttps://www.youtube.com/channel/UCFFSoxJubBC9cDMOzk9dXjQ\\n\\nFollow MZL online:\\nhttps://www.instagram.com/mzl.ikh/\\nhttps://soundcloud.com/archivesofmzl\\n\\n#Segalanya #Riff #Swanz #MZL #AMOF #BeatsAndCaffeine #Brunei #MYHH #MYHHCODE\\n\\n© 2020 Beats & Caffeine Studio'}, 'defaultAudioLanguage': 'zxx'}}], 'pageInfo': {'totalResults': 1, 'resultsPerPage': 1}}\n"
     ]
    }
   ],
   "source": [
    "load_dotenv(override=True)\n",
    "api_key = os.getenv('YOUTUBE_API_KEY')\n",
    "video_id = 'AoeDLbTwuTw'\n",
    "\n",
    "video_api_url = f\"https://www.googleapis.com/youtube/v3/videos?part=snippet&id={video_id}&key={api_key}\"\n",
    "response = requests.get(video_api_url)\n",
    "\n",
    "if response.status_code != 200:\n",
    "    print(f\"Failed to retrieve video data: {response.status_code}\")\n",
    "else:\n",
    "    print(response.json())"
   ]
  },
  {
   "cell_type": "code",
   "execution_count": 23,
   "metadata": {},
   "outputs": [
    {
     "name": "stdout",
     "output_type": "stream",
     "text": [
      "No data found for video: EYFeIKDO8gg\n",
      "No data found for video: mzl-WqYfqkw\n",
      "No data found for video: MzL-mz-Y9OQ\n",
      "No data found for video: MZl-G2jS3Ek\n",
      "No data found for video: mzL-2FQagNo\n",
      "No data found for video: mzl-cY8cn48\n",
      "No data found for video: gW5pFaKcYkU\n",
      "No data found for video: -Jqu-_jPvO4\n"
     ]
    }
   ],
   "source": [
    "\n",
    "with open('all-vids.txt', 'r') as f:\n",
    "    video_urls = f.readlines()\n",
    "f.close()\n",
    "\n",
    "# Function to get the associated channel ID from a video URL\n",
    "def get_channel_from_video(video_id):\n",
    "\n",
    "    api_key = os.getenv('YOUTUBE_API_KEY')\n",
    "    \n",
    "    video_api_url = f\"https://www.googleapis.com/youtube/v3/videos?part=snippet&id={video_id}&key={api_key}\"\n",
    "    response = requests.get(video_api_url)\n",
    "    \n",
    "    if response.status_code != 200:\n",
    "        print(f\"Failed to retrieve video data: {response.status_code}\")\n",
    "        return None\n",
    "    \n",
    "    video_data = response.json()\n",
    "\n",
    "    # Get the channel ID from the video data\n",
    "    if 'items' in video_data and video_data['items']:\n",
    "        channel_id = video_data['items'][0]['snippet']['channelId']\n",
    "    else:\n",
    "        print(f\"No data found for video: {video_id}\")\n",
    "        return None\n",
    "    \n",
    "    return channel_id\n",
    "\n",
    "channel_ids = set()\n",
    "for video_url in video_urls:\n",
    "    channel_ids.add(get_channel_from_video(video_url.strip()))\n",
    "    if len(channel_ids) >= 500:\n",
    "        break"
   ]
  },
  {
   "cell_type": "code",
   "execution_count": 24,
   "metadata": {},
   "outputs": [
    {
     "name": "stdout",
     "output_type": "stream",
     "text": [
      "No data found for channel: None\n",
      "['24', '98', '2', '7', '3', '16', '257', '381', '1', '87', '603', '34', '392', '3', '4', '9', '189', '823', '27', '331', '28', '200', '172', '1454', '114', '778', '8', '17', '21', '4', '11', '6', '24', '635', '21', '3', '899', '68', '2', '716', '3', '18', '736', '37', '1924', '1747', '857', '3232', '5', '2553', '23', '64', '117887', '62', '10087', '35', '7', '9', '164', '76', '841', '7', '28', '474', '13808', '254', '553', '150', '85', '1199', '2809', '2510', '2', '34', '188', '292', '871', '38', '131', '6', '6117', '9', '245', '887', '7', '1', '14', '11', '682', '261', '8', '2480', '1554', '3', '951', '6', '89', '193', '201', '854', '200', '13', '251', '9', '5', '137', '401', '5', '533', '774', '3', '4700', '3683', '225', '24', '3', '46', '348', '16', '5338', '858', '43', '1', '16', '30', '717', '65', '9', '5', '106', '239', '29', '5', '774', '26', '8', '3', '314', '13', '1276', '1381', '1088', '19', '598', '13', '134', '216', '5', '11', '194', '1106', '4476', '528', '588', '1', '1', '106', '4', '82', '2303', '8', '20', '2', '3', '6', '95', '5', '27', '2791', '858', '21', '32', '34', '250', '53', '111', '2', '343', '1720', '95', '14', '821', '93', '817', '56', '294', '6538', '496', '11516', '487', '69', '944', '7872', '62', '256', '6', '414', '2696', '105', '24', '13', '285', '1803', '194', '32', '23', '1360', '15', '8', '201', '100', '176', '343', '43', '6', '3', '102', '3', '2432', '6', '9', '18', '75', '10', '6467', '539', '3', '122', '481', '1', '2443', '4', '922', '45', '217', '1366', '2387', '20', '641', '1', '16', '6', '109', '124', '224', '3', '330', '53', '4', '2', '3', '15', '572', '7', '126', '7', '747', '1', '3', '89', '468', '486', '152', '25', '228', '335', '44', '4', '554', '3295', '11', '78', '3660', '4', '26', '738', '774', '33', '541', '3', '168', '2690', '14', '427', '740', '321', '2', '1', '97', '21', '1229', '67', '56', '1712', '3', '18', '52', '10', '1', '15', '27', '600', '9', '76', '35', '94', '341', '88', '717', '3', '1657', '1', '1672', '1', '39', '23', '22', '1', '445', '14', '19', '10', '320', '3', '67', '38', '78', '763', '287', '1135', '14', '2967', '17', '95', '35', '172', '110', '170', '567', '50', '10', '14', '202', '434', '362', '995', '23', '2', '173', '307', '5', '308', '4', '278', '6', '8', '99', '3', '768', '80', '220', '295', '1', '367', '174', '1322', '175', '50', '4', '10', '266', '211', '6254', '47', '84', '49', '2062', '229', '256', '24', '165', '2', '333', '47', '117', '383', '4', '300', '609', '44', '1', '22', '20', '3', '14', '1494', '143', '160', '5', '11', '2', '2059', '248', '387', '33', '98', '8', '547', '64', '209', '6', '3', '51', '1854', '40', '5', '378', '116', '141', '54', '8', '2', '2', '4', '22', '3', '2078', '116', '49', '34', '40', '25', '537', '27', '90', '137', '82', '1224', '8', '12', '156', '129', '101', '21', '107', '1', '38', '168', '3', '71', '16', '141', '12', '10', '637', '10', '4', '1741', '147', '38', '9', '4', '187', '88', '1012', '430', '164', '337', '7', '14', '4', '13', '4', '10', '17371', '20', '26', '286', '255', '900', '10', '2360', '34', '2', '33', '23', '384', '102', '78', '97', '160', '423', '26', '391', '110', '643', '570', '2065', '39']\n"
     ]
    }
   ],
   "source": [
    "num_videos = []\n",
    "for channel_id in channel_ids:\n",
    "    channel_api_url = f\"https://www.googleapis.com/youtube/v3/channels?part=statistics&id={channel_id}&key={api_key}\"\n",
    "    response = requests.get(channel_api_url)\n",
    "\n",
    "    if response.status_code != 200:\n",
    "        print(f\"Failed to retrieve video data: {response.status_code}\")\n",
    "    else:\n",
    "        # Get number of videos on that channel\n",
    "        channel_data = response.json()\n",
    "        if 'items' in channel_data and channel_data['items']:\n",
    "            video_count = channel_data['items'][0]['statistics']['videoCount']\n",
    "            num_videos.append(video_count)\n",
    "        else:\n",
    "            print(f\"No data found for channel: {channel_id}\")\n",
    "\n",
    "print(num_videos)\n",
    "\n",
    "        "
   ]
  },
  {
   "cell_type": "code",
   "execution_count": 39,
   "metadata": {},
   "outputs": [
    {
     "name": "stdout",
     "output_type": "stream",
     "text": [
      "499\n"
     ]
    }
   ],
   "source": [
    "for i in num_videos:\n",
    "    # Find and remove non-numerical values\n",
    "    if not i.isdigit():\n",
    "        num_videos.remove(i)\n",
    "\n",
    "# Convert to integer\n",
    "    num_videos = [int(i) for i in num_videos]\n",
    "\n",
    "print(len(num_videos))"
   ]
  },
  {
   "cell_type": "code",
   "execution_count": 46,
   "metadata": {},
   "outputs": [
    {
     "data": {
      "image/png": "[encoded data removed]",
      "text/plain": [
       "<Figure size 640x480 with 1 Axes>"
      ]
     },
     "metadata": {},
     "output_type": "display_data"
    }
   ],
   "source": [
    "# Make histogram of video counts from num_videos\n",
    "# on the x axis show only min and max values\n",
    "plt.hist(num_videos, bins=1000)\n",
    "plt.xlabel('Number of Videos')\n",
    "plt.ylabel('Number of Channels')\n",
    "plt.xticks([min(num_videos), max(num_videos)])\n",
    "plt.title('Distribution of Number of Videos per Channel')\n",
    "plt.show()"
   ]
  },
  {
   "cell_type": "code",
   "execution_count": 41,
   "metadata": {},
   "outputs": [
    {
     "name": "stdout",
     "output_type": "stream",
     "text": [
      "Mean Video Count: 764.2484969939879\n",
      "Median Video Count: 80.0\n"
     ]
    }
   ],
   "source": [
    "import numpy as np\n",
    "\n",
    "# Example list of video counts (with potential string values)\n",
    "video_counts = ['10', '20', '30', '40', '50']\n",
    "\n",
    "# Convert the list of strings to integers\n",
    "video_counts_numeric = []+\n",
    "for count in num_videos:\n",
    "    try:\n",
    "        video_counts_numeric.append(int(count))  # Convert to int\n",
    "    except ValueError:\n",
    "        print(f\"Warning: Could not convert '{count}' to an integer.\")\n",
    "\n",
    "# Convert list to a numpy array\n",
    "video_counts_array = np.array(video_counts_numeric)\n",
    "\n",
    "# Calculate mean and median\n",
    "mean_count = np.mean(video_counts_array)\n",
    "median_count = np.median(video_counts_array)\n",
    "\n",
    "print(f\"Mean Video Count: {mean_count}\")\n",
    "print(f\"Median Video Count: {median_count}\")\n",
    "\n"
   ]
  },
  {
   "cell_type": "code",
   "execution_count": 47,
   "metadata": {},
   "outputs": [
    {
     "name": "stdout",
     "output_type": "stream",
     "text": [
      "Mean Video Count: 764.2484969939879\n",
      "Median Video Count: 80\n"
     ]
    }
   ],
   "source": [
    "import statistics\n",
    "\n",
    "# Calculate mean and median\n",
    "mean_count = statistics.mean(num_videos)\n",
    "median_count = statistics.median(num_videos)\n",
    "\n",
    "print(f\"Mean Video Count: {mean_count}\")\n",
    "print(f\"Median Video Count: {median_count}\")\n"
   ]
  },
  {
   "cell_type": "code",
   "execution_count": 3,
   "metadata": {},
   "outputs": [],
   "source": [
    "import os\n",
    "import urllib.request\n",
    "import json\n",
    "import pandas as pd\n",
    "import matplotlib.pyplot as plt\n",
    "import seaborn as sns\n",
    "from langdetect import detect\n",
    "from dotenv import load_dotenv\n",
    "import ssl"
   ]
  },
  {
   "cell_type": "code",
   "execution_count": null,
   "metadata": {},
   "outputs": [],
   "source": [
    "api_key = os.getenv('YOUTUBE_API_KEY')\n",
    "video_details = []\n",
    "\n",
    "# Create an SSL context to bypass SSL verification\n",
    "context = ssl._create_unverified_context()\n",
    "\n",
    "video_id = 'sfyb1dQDMWk'\n",
    "\n",
    "url = f\"https://www.googleapis.com/youtube/v3/videos?part=snippet&id={video_id}&key={api_key}\"\n",
    "try:\n",
    "    with urllib.request.urlopen(url, context=context) as response:\n",
    "        data = json.loads(response.read().decode())\n",
    "\n",
    "        for item in data.get('items', []):\n",
    "            snippet = item['snippet']\n",
    "            title = snippet.get('title', '')\n",
    "\n",
    "            video_details.append({\n",
    "                'video_id': video_id,\n",
    "                'published_at': snippet['publishedAt'],\n",
    "                'title': title,\n",
    "                'channel_id': snippet['channelId'],\n",
    "                'language': snippet['defaultAudioLanguage'],\n",
    "                'region': snippet['defaultLanguage'],\n",
    "            })\n",
    "except urllib.error.HTTPError as e:\n",
    "    print(f\"Failed to retrieve video details for {video_id}: {e.reason}\")"
   ]
  }
 ],
 "metadata": {
  "kernelspec": {
   "display_name": "venv",
   "language": "python",
   "name": "python3"
  },
  "language_info": {
   "codemirror_mode": {
    "name": "ipython",
    "version": 3
   },
   "file_extension": ".py",
   "mimetype": "text/x-python",
   "name": "python",
   "nbconvert_exporter": "python",
   "pygments_lexer": "ipython3",
   "version": "3.12.4"
  }
 },
 "nbformat": 4,
 "nbformat_minor": 2
}
